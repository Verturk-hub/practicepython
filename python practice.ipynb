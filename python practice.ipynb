{
 "cells": [
  {
   "cell_type": "code",
   "execution_count": 8,
   "source": [
    "def difference(n):\r\n",
    "    if n <= 17:\r\n",
    "        return 17 - n\r\n",
    "    else:\r\n",
    "        return (n-17) * 2\r\n",
    "\r\n",
    "print(difference(22))\r\n",
    "print(difference(14))"
   ],
   "outputs": [
    {
     "output_type": "stream",
     "name": "stdout",
     "text": [
      "10\n",
      "3\n"
     ]
    }
   ],
   "metadata": {}
  },
  {
   "cell_type": "code",
   "execution_count": 16,
   "source": [
    "\r\n",
    "lst = [1, 5, 8, 3]\r\n",
    "def is_in_list(lst, n):\r\n",
    "    for i in lst:\r\n",
    "        if i == n:\r\n",
    "            return True\r\n",
    "        else:\r\n",
    "            return False\r\n",
    "\r\n",
    "print(is_in_list(lst,4))"
   ],
   "outputs": [
    {
     "output_type": "stream",
     "name": "stdout",
     "text": [
      "False\n"
     ]
    }
   ],
   "metadata": {}
  },
  {
   "cell_type": "code",
   "execution_count": 21,
   "source": [
    "numbers = [386, 462, 47, 418, 907, 344, 236, 375, 823, 566, 597, 978, 328, 615, 953, 345, \r\n",
    "    399, 162, 758, 219, 918, 237, 412, 566, 826, 248, 866, 950, 626, 949, 687, 217, \r\n",
    "    815, 67, 104, 58, 512, 24, 892, 894, 767, 553, 81, 379, 843, 831, 445, 742, 717, \r\n",
    "    958,743, 527]\r\n",
    "for n in numbers:\r\n",
    "    if n % 2 == 0:\r\n",
    "        print(n, end=' ')\r\n",
    "    if n == 237 :\r\n",
    "        break"
   ],
   "outputs": [
    {
     "output_type": "stream",
     "name": "stdout",
     "text": [
      "386 462 418 344 236 566 978 328 162 758 918 "
     ]
    }
   ],
   "metadata": {}
  },
  {
   "cell_type": "code",
   "execution_count": 22,
   "source": [
    "l1 = set([\"White\", \"Black\", \"Red\"])\r\n",
    "l2 = set([\"Red\", \"Green\"])\r\n",
    "for i in l1:\r\n",
    "    if i not in l2:\r\n",
    "        print(i)\r\n",
    "        "
   ],
   "outputs": [
    {
     "output_type": "stream",
     "name": "stdout",
     "text": [
      "Black\n",
      "White\n"
     ]
    }
   ],
   "metadata": {}
  },
  {
   "cell_type": "code",
   "execution_count": 24,
   "source": [
    "import numpy as np\r\n",
    "ali =[1,2,2,3,3,4]\r\n",
    "np.unique(ali)\r\n"
   ],
   "outputs": [
    {
     "output_type": "execute_result",
     "data": {
      "text/plain": [
       "array([1, 2, 3, 4])"
      ]
     },
     "metadata": {},
     "execution_count": 24
    }
   ],
   "metadata": {}
  },
  {
   "cell_type": "code",
   "execution_count": 40,
   "source": [
    "x=[1,2,3,4,5,6,7,8]\r\n",
    "def median(x):\r\n",
    "    if len(x) % 2 != 0 :\r\n",
    "        return x[int((len(x)+1)/2 -1)] \r\n",
    "    else:\r\n",
    "        return (x[int((len(x)+1)/2 -1)] + x[int((len(x)+1)/2)] )/2\r\n",
    "    \r\n",
    "\r\n",
    "print(median(x))"
   ],
   "outputs": [
    {
     "output_type": "stream",
     "name": "stdout",
     "text": [
      "4.5\n"
     ]
    }
   ],
   "metadata": {}
  },
  {
   "cell_type": "code",
   "execution_count": 62,
   "source": [
    "num1=6\r\n",
    "num2=8\r\n",
    "b= [11,2,33,4,5,65,7,8]\r\n",
    "for i in b:\r\n",
    "        if num1 % i == 0 and num2 % i == 0 :\r\n",
    "            print(\"common divisors of \" + str(num1) + ' and '+ str(num2) + \" : \" + str(i))\r\n"
   ],
   "outputs": [
    {
     "output_type": "stream",
     "name": "stdout",
     "text": [
      "common divisors of 6 and 8 : 2\n"
     ]
    }
   ],
   "metadata": {}
  },
  {
   "cell_type": "code",
   "execution_count": 69,
   "source": [
    "c = sorted(b)\r\n",
    "print(*c[:4:-1], sep='\\n')\r\n"
   ],
   "outputs": [
    {
     "output_type": "stream",
     "name": "stdout",
     "text": [
      "65\n",
      "33\n",
      "11\n"
     ]
    }
   ],
   "metadata": {}
  },
  {
   "cell_type": "code",
   "execution_count": null,
   "source": [],
   "outputs": [],
   "metadata": {}
  }
 ],
 "metadata": {
  "orig_nbformat": 4,
  "language_info": {
   "name": "python",
   "version": "3.8.3",
   "mimetype": "text/x-python",
   "codemirror_mode": {
    "name": "ipython",
    "version": 3
   },
   "pygments_lexer": "ipython3",
   "nbconvert_exporter": "python",
   "file_extension": ".py"
  },
  "kernelspec": {
   "name": "python3",
   "display_name": "Python 3.8.3 64-bit ('base': conda)"
  },
  "interpreter": {
   "hash": "46182d5f787c7496ac3d2ccd0c5d8bf41bffd3ac5e5e93146af501a7f382c533"
  }
 },
 "nbformat": 4,
 "nbformat_minor": 2
}